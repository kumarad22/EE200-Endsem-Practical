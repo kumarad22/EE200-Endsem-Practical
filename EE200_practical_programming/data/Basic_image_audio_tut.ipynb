{
  "nbformat": 4,
  "nbformat_minor": 0,
  "metadata": {
    "colab": {
      "provenance": []
    },
    "kernelspec": {
      "name": "python3",
      "display_name": "Python 3"
    },
    "language_info": {
      "name": "python"
    }
  },
  "cells": [
    {
      "cell_type": "code",
      "execution_count": null,
      "metadata": {
        "id": "a8kuSNmJRAZ4"
      },
      "outputs": [],
      "source": [
        "'''This tutrial will help you understand the basic image related operations like loading an image, resizing an image,\n",
        "cropping and rotating an image etc'''\n",
        "\n",
        "\n",
        "from PIL import Image\n",
        "import numpy as np\n",
        "import matplotlib.pyplot as plt\n",
        "\n",
        "# 1. Load an image\n",
        "img = Image.open('path to your image')  # Replace with your file path\n",
        "\n",
        "# 2. Display original image\n",
        "plt.figure(figsize=(6, 4))\n",
        "plt.imshow(img)\n",
        "plt.title(\"Original Image\")\n",
        "plt.axis('off')\n",
        "plt.show()\n",
        "\n",
        "# 3. Convert to grayscale\n",
        "img_gray = img.convert('L')\n",
        "\n",
        "# 4. Resize image\n",
        "img_resized = img.resize((200, 200))\n",
        "\n",
        "# 5. Crop image (left, upper, right, lower)\n",
        "img_cropped = img.crop((50, 50, 200, 200))\n",
        "\n",
        "# 6. Rotate image\n",
        "img_rotated = img.rotate(45)  # Rotate 45 degrees counter-clockwise\n",
        "\n",
        "# 7. Display processed images in a single plot using subplot function\n",
        "fig, axs = plt.subplots(1, 4, figsize=(16, 4))\n",
        "\n",
        "axs[0].imshow(img_gray, cmap='gray')\n",
        "axs[0].set_title(\"Grayscale\")\n",
        "axs[0].axis('off')\n",
        "\n",
        "axs[1].imshow(img_resized)\n",
        "axs[1].set_title(\"Resized\")\n",
        "axs[1].axis('off')\n",
        "\n",
        "axs[2].imshow(img_cropped)\n",
        "axs[2].set_title(\"Cropped\")\n",
        "axs[2].axis('off')\n",
        "\n",
        "axs[3].imshow(img_rotated)\n",
        "axs[3].set_title(\"Rotated\")\n",
        "axs[3].axis('off')\n",
        "\n",
        "plt.tight_layout()\n",
        "plt.show()\n"
      ]
    },
    {
      "cell_type": "code",
      "source": [
        "'''This tutrial will help you understand the basic audio related operations like loading an audio, fetching sampling rate and duration,\n",
        "plotting the waveform and the spectrogram etc'''\n",
        "import librosa\n",
        "import librosa.display\n",
        "import numpy as np\n",
        "import matplotlib.pyplot as plt\n",
        "\n",
        "# 1. Load the audio file\n",
        "audio_path = 'path to your audio file'\n",
        "y, sr = librosa.load(audio_path, sr=None) # sr stands for sampling rate\n",
        "\n",
        "# 2. Print sampling rate and duration\n",
        "print(f\"Sample Rate: {sr} Hz\")\n",
        "print(f\"Duration: {len(y) / sr:.2f} seconds\")\n",
        "\n",
        "# 3. Normalize audio\n",
        "y_normalized = y / np.max(np.abs(y))\n",
        "\n",
        "# 4. Plot the waveform\n",
        "plt.figure(figsize=(10, 4))\n",
        "librosa.display.waveshow(y_normalized, sr=sr)\n",
        "plt.title(\"Waveform\")\n",
        "plt.xlabel(\"Time (s)\")\n",
        "plt.ylabel(\"Amplitude\")\n",
        "plt.grid(True)\n",
        "plt.tight_layout()\n",
        "plt.show()\n",
        "\n",
        "# 5. Plot the spectrogram (in dB)\n",
        "D = librosa.stft(y)\n",
        "S_db = librosa.amplitude_to_db(np.abs(D), ref=np.max)\n",
        "\n",
        "plt.figure(figsize=(10, 4))\n",
        "librosa.display.specshow(S_db, sr=sr, x_axis='time', y_axis='hz', cmap='magma')\n",
        "plt.colorbar(format=\"%+2.0f dB\")\n",
        "plt.title(\"Spectrogram\")\n",
        "plt.tight_layout()\n",
        "plt.show()"
      ],
      "metadata": {
        "id": "1Dxwa2GjTCMA"
      },
      "execution_count": null,
      "outputs": []
    }
  ]
}